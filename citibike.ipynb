{
 "cells": [
  {
   "cell_type": "code",
   "execution_count": 7,
   "metadata": {},
   "outputs": [],
   "source": [
    "import pandas as pd"
   ]
  },
  {
   "cell_type": "code",
   "execution_count": 8,
   "metadata": {},
   "outputs": [],
   "source": [
    "tp='JC-201805-citibike-tripdata.csv.zip'\n",
    "b18_05=pd.read_csv(tp)\n"
   ]
  },
  {
   "cell_type": "code",
   "execution_count": 9,
   "metadata": {},
   "outputs": [],
   "source": [
    "tp='JC-201806-citibike-tripdata.csv.zip'\n",
    "b18_06=pd.read_csv(tp)"
   ]
  },
  {
   "cell_type": "code",
   "execution_count": 10,
   "metadata": {},
   "outputs": [],
   "source": [
    "tp='JC-201807-citibike-tripdata.csv.zip'\n",
    "b18_07=pd.read_csv(tp)"
   ]
  },
  {
   "cell_type": "code",
   "execution_count": 11,
   "metadata": {},
   "outputs": [],
   "source": [
    "tp='JC-201808-citibike-tripdata.csv.zip'\n",
    "b18_08=pd.read_csv(tp)"
   ]
  },
  {
   "cell_type": "code",
   "execution_count": 12,
   "metadata": {},
   "outputs": [],
   "source": [
    "tp='JC-201809-citibike-tripdata.csv.zip'\n",
    "b18_09=pd.read_csv(tp)"
   ]
  },
  {
   "cell_type": "code",
   "execution_count": 13,
   "metadata": {},
   "outputs": [],
   "source": [
    "tp='JC-201810-citibike-tripdata.csv.zip'\n",
    "b18_10=pd.read_csv(tp)"
   ]
  },
  {
   "cell_type": "code",
   "execution_count": 14,
   "metadata": {},
   "outputs": [],
   "source": [
    "tp='JC-201811-citibike-tripdata.csv.zip'\n",
    "b18_11=pd.read_csv(tp)"
   ]
  },
  {
   "cell_type": "code",
   "execution_count": 15,
   "metadata": {},
   "outputs": [],
   "source": [
    "tp='JC-201812-citibike-tripdata.csv.zip'\n",
    "b18_12=pd.read_csv(tp)"
   ]
  },
  {
   "cell_type": "code",
   "execution_count": 16,
   "metadata": {},
   "outputs": [],
   "source": [
    "tp='JC-201901-citibike-tripdata.csv.zip'\n",
    "b19_01=pd.read_csv(tp)"
   ]
  },
  {
   "cell_type": "code",
   "execution_count": 19,
   "metadata": {},
   "outputs": [],
   "source": [
    "tp='JC-201902-citibike-tripdata.csv.zip'\n",
    "b19_02=pd.read_csv(tp)"
   ]
  },
  {
   "cell_type": "code",
   "execution_count": 21,
   "metadata": {},
   "outputs": [],
   "source": [
    "tp='JC-201903-citibike-tripdata.csv.zip'\n",
    "b19_03=pd.read_csv(tp)"
   ]
  },
  {
   "cell_type": "code",
   "execution_count": 22,
   "metadata": {},
   "outputs": [],
   "source": [
    "tp='JC-201904-citibike-tripdata.csv.zip'\n",
    "b19_04=pd.read_csv(tp)"
   ]
  },
  {
   "cell_type": "code",
   "execution_count": 23,
   "metadata": {},
   "outputs": [],
   "source": [
    "tp='JC-201905-citibike-tripdata.csv.zip'\n",
    "b19_05=pd.read_csv(tp)"
   ]
  },
  {
   "cell_type": "code",
   "execution_count": 28,
   "metadata": {},
   "outputs": [],
   "source": [
    "bikes=pd.concat([b18_06, b18_05, b18_07, b18_08, b18_09, b18_10, b18_11, b18_12, b19_01, b19_02, b19_03, b19_04, b19_05], axis=0)"
   ]
  },
  {
   "cell_type": "code",
   "execution_count": 29,
   "metadata": {},
   "outputs": [],
   "source": [
    "bikes.to_csv('bikes.csv')"
   ]
  }
 ],
 "metadata": {
  "kernelspec": {
   "display_name": "Python 3",
   "language": "python",
   "name": "python3"
  },
  "language_info": {
   "codemirror_mode": {
    "name": "ipython",
    "version": 3
   },
   "file_extension": ".py",
   "mimetype": "text/x-python",
   "name": "python",
   "nbconvert_exporter": "python",
   "pygments_lexer": "ipython3",
   "version": "3.7.2"
  }
 },
 "nbformat": 4,
 "nbformat_minor": 2
}
